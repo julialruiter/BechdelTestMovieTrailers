{
 "cells": [
  {
   "cell_type": "markdown",
   "id": "505daa6d",
   "metadata": {},
   "source": [
    "### Research Question and Motivation\n",
    "\"The **Bechdel test** is a measure of the representation of women in fiction. It asks whether a work features at least two women who talk to each other about something other than a man\" (Wikipedia).  This \"test\" is often thrown around in the internet in discussions on how progressive or mysogynistic a film is.\n",
    "\n",
    "While we cannot determine the content of the conversations from stills alone, we can analyze the number and presence of scenes featuring 2+ female characters and use this as a **proxy** for if the Bechdel criteria has been met.  Furthermore, since these are movie trailers and not entire films, we can infer that if a scene featuring 2+ women is deemed \"important\" enough to be featured in the trailer, that it also a scene relevant to the plot of the film.  Therefore, if at least one scene in the trailer features 2+ women, then we will consider that the film is a candidate for passing the Bechdel test (to be reviewed in full manually by humans later).\n",
    "\n",
    "\n",
    "### Hypothesis\n",
    "Not accounting for genre, I hypothesize that a higher percentage of film trailers from 2000-2020 will pass the Bechdel test than the other two brackets as film producers become more aware of role-imbalance issues (or more cynically:  producers realize that featuring more women in the trailers may draw a larger female audience to the film).\n",
    "\n",
    "\n",
    "### Features and Setup\n",
    "1. get frames from the trailers.  **operation reduction 1:** we will sample 1 frame per second of the trailer to reduce future calculations.  Since films are typically shot at 30 frames per second, frames generally do not vary much from one to the next --this allows us to sample 1/30 of the frames with minimal loss in represntation.\n",
    "2. identify **number of faces** in each frame using the pretrained \"haar cascade classifier\" (this is a necessary preprocessing step for the gender classifier)\n",
    "3. **operation reduction 2:** any trailers that do not contain at least 1 frame with 2 or more faces automatically fail the Bechdel test. We do not need to determine the gender of faces shown if the trailer never has more than one person per frame.\n",
    "4. **operation reduction 3:** for all remaining trailers, only keep frames that have at least 2 faces.  Once again, frames with only one face have no possibility of having 2 women in a frame, so gender does not need to be classified on these frames.\n",
    "5. identify the **gender of each face** in the scene using a pretrained tensorflow gender classifier.\n",
    "6. flag any trailer with a frame of two or more women as a potential candidate for passing the Bechdel test.  For these **candidates**, calculate the male to female face-time and frame-presence ratios--trailers with a higher female to male ratio in these categories are **strong candidates** for passing the Bechdel test."
   ]
  },
  {
   "cell_type": "code",
   "execution_count": 1,
   "id": "90835c20",
   "metadata": {},
   "outputs": [],
   "source": [
    "# import libraries and necessary files\n",
    "import pandas as pd\n",
    "import numpy as np\n",
    "\n",
    "import cv2\n",
    "\n",
    "import tensorflow as tf\n",
    "from tensorflow import keras\n",
    "from keras.applications import imagenet_utils  # need this to remove model loading error on my system\n",
    "from tensorflow.keras.preprocessing import image\n",
    "from tensorflow.keras.applications.resnet50 import ResNet50\n",
    "from tensorflow.keras.applications.resnet50 import preprocess_input, decode_predictions\n",
    "from tensorflow.keras.models import load_model\n",
    "\n",
    "from PIL import Image, ImageOps\n",
    "\n",
    "import matplotlib.pyplot as plt\n",
    "from sklearn import linear_model\n",
    "\n",
    "import os\n",
    "import io\n",
    "import wget\n",
    "\n",
    "from tqdm.notebook import tqdm\n",
    "\n",
    "# global paths\n",
    "path_face_classifier = 'C:\\\\Users\\\\Julia\\\\anaconda3\\\\Lib\\\\site-packages\\\\cv2\\\\data\\\\haarcascade_frontalface_default.xml'  # location of face detector model\n",
    "face_cascade = cv2.CascadeClassifier(path_face_classifier)\n",
    "gender_classifier = load_model('C:\\\\Users\\\\Julia\\\\anaconda3\\\\Lib\\\\site-packages\\\\cv2\\\\data\\\\gender_mini_XCEPTION.21-0.95.hdf5', compile=False) # location of pretrained gender classifier"
   ]
  },
  {
   "cell_type": "code",
   "execution_count": 3,
   "id": "a1bffa1f",
   "metadata": {},
   "outputs": [],
   "source": [
    "# Set variable thresholds\n",
    "MIN_NUM_OF_FACES = 1"
   ]
  },
  {
   "cell_type": "markdown",
   "id": "ffeed79c",
   "metadata": {},
   "source": [
    "### Step 0:  Preprocessing"
   ]
  },
  {
   "cell_type": "code",
   "execution_count": 5,
   "id": "3f74fe8d",
   "metadata": {},
   "outputs": [],
   "source": [
    "# get all Ttailers\n",
    "trailers_df = pd.read_csv('trailers.csv')\n",
    "\n",
    "# split by time period\n",
    "df_1920_1940_all = trailers_df[trailers_df['year'].between(1920, 1940)]\n",
    "df_1960_1980_all = trailers_df[trailers_df['year'].between(1960, 1980)]\n",
    "df_2000_2020_all = trailers_df[trailers_df['year'].between(2000, 2020)]\n",
    "\n",
    "#sample N = 10 trailers from each (shuffled) dataset\n",
    "seed = 42\n",
    "N = 10\n",
    "df_1920_1940 = df_1920_1940_all.sample(N, random_state=seed)  # answer to life the universe and everything\n",
    "df_1960_1980 = df_1960_1980_all.sample(N, random_state=seed)\n",
    "df_2000_2020 = df_2000_2020_all.sample(N, random_state=seed)"
   ]
  },
  {
   "cell_type": "code",
   "execution_count": null,
   "id": "e518031a",
   "metadata": {},
   "outputs": [],
   "source": [
    "# NOTE:  This block only needs to be run if the videos do not already exist in the project folder\n",
    "# IF YOU SKIP THIS BLOCK:  output lists will be stored in the next code block\n",
    "\n",
    "#helper function to download the videos from the online archieve\n",
    "def download_videos(subset, output_folder='videos', subset_folder='1920_1940'):   # from manual\n",
    "    '''download videos from remote source via dataframe subset'''   \n",
    "    if not os.path.exists(output_folder):\n",
    "        os.mkdir(output_folder)\n",
    "    if not os.path.exists(os.path.join(output_folder, subset_folder)):\n",
    "        os.mkdir(os.path.join(output_folder, subset_folder))    \n",
    "    video_paths = []\n",
    "    for video in tqdm(subset.itertuples(), total=len(subset)):\n",
    "        video_url = video.url\n",
    "        output_path = os.path.join(output_folder, subset_folder, video.trailer_title + '.mp4')\n",
    "        if not os.path.exists(output_path):\n",
    "            filename = wget.download(video_url, out=output_path)\n",
    "        video_paths.append(output_path)\n",
    "    return video_paths\n",
    "\n",
    "# create lists of sampled trailer locations\n",
    "video_paths_1920_1940 = download_videos(df_1920_1940, \n",
    "                              output_folder='videos',  # parent directory\n",
    "                              subset_folder='1920_1940') # and in the folder 1920-1940\n",
    "video_paths_1960_1980 = download_videos(df_1960_1980, \n",
    "                              output_folder='videos',  \n",
    "                              subset_folder='1960_1980') \n",
    "video_paths_2000_2020 = download_videos(df_2000_2020, \n",
    "                              output_folder='videos',  \n",
    "                              subset_folder='2000_2020') \n",
    "\n",
    "# appending file address to sub_dataframes (as new column)\n",
    "df_1920_1940['path'] = video_paths_1920_1940\n",
    "df_1960_1980['path'] = video_paths_1960_1980\n",
    "df_2000_2020['path'] = video_paths_2000_2020\n",
    "\n",
    "# note:  these lists will NOT be concatenated.  This makes it easier to batch analysis by time period"
   ]
  },
  {
   "cell_type": "code",
   "execution_count": 6,
   "id": "8c9530e2",
   "metadata": {},
   "outputs": [],
   "source": [
    "# # RUN THIS BLOCK IFF YOU DID NOT RUN THE PREVIOUS BLOCK\n",
    "# # copy of the video path lists (from HW 6.1) so the prior block does not need to be rerun by me\n",
    "# video_paths_1920_1940 = ['videos\\\\1920_1940\\\\LIBELED LADY trailer.mp4',\n",
    "#                          'videos\\\\1920_1940\\\\MODERN TIMES trailers.mp4',\n",
    "#                          'videos\\\\1920_1940\\\\LITTLE CAESAR trailer.mp4',\n",
    "#                          'videos\\\\1920_1940\\\\NOTHING SACRED trailer.mp4',\n",
    "#                          'videos\\\\1920_1940\\\\EVELYN PRENTIC trailer.mp4',\n",
    "#                          'videos\\\\1920_1940\\\\TEST PILOT trailer.mp4',\n",
    "#                          'videos\\\\1920_1940\\\\NINOTCHKA trailer..mp4',\n",
    "#                          'videos\\\\1920_1940\\\\PACK UP YOUR TROUBLES trailer.mp4',\n",
    "#                          'videos\\\\1920_1940\\\\A NIGHT AT THE OPERA trailer.mp4',\n",
    "#                          'videos\\\\1920_1940\\\\THE MAGNETIC MONSTER trailer.mp4']\n",
    "# video_paths_1960_1980 = ['videos\\\\1960_1980\\\\KHARTOUM trailer.mp4',\n",
    "#                          'videos\\\\1960_1980\\\\Z FOR ZACHARIAH trailer.mp4',\n",
    "#                          'videos\\\\1960_1980\\\\LADY SNOWBLOOD 2 trailer.mp4',\n",
    "#                          'videos\\\\1960_1980\\\\CHILDREN OF THE DAMNED trailer.mp4',\n",
    "#                          'videos\\\\1960_1980\\\\THE SCALPHUNTERS trailer.mp4',\n",
    "#                          'videos\\\\1960_1980\\\\55 DAYS AT PEKING trailer.mp4',\n",
    "#                          'videos\\\\1960_1980\\\\STARDUST MEMORIES trailer.mp4',\n",
    "#                          'videos\\\\1960_1980\\\\THE FALL OF THE ROMAN EMPIRE trailer.mp4',\n",
    "#                          'videos\\\\1960_1980\\\\BUTCH CASSIDY AND THE SUNDANCE KID trailer & tv spots.mp4',\n",
    "#                          'videos\\\\1960_1980\\\\Alien - trailer.mp4']\n",
    "# video_paths_2000_2020 = ['videos\\\\2000_2020\\\\NORBIT trailer.mp4',\n",
    "#                          'videos\\\\2000_2020\\\\EEGAH trailer.mp4',\n",
    "#                          'videos\\\\2000_2020\\\\FLIGHTPLAN trailer.mp4',\n",
    "#                          \"videos\\\\2000_2020\\\\HANGMAN'S CURSE trailer.mp4\",\n",
    "#                          'videos\\\\2000_2020\\\\THE DYING GAUL trailer.mp4',\n",
    "#                          'videos\\\\2000_2020\\\\2012 trailer.mp4',\n",
    "#                          'videos\\\\2000_2020\\\\INCEPTION trailer.mp4',\n",
    "#                          'videos\\\\2000_2020\\\\THE ROAD trailer.mp4',\n",
    "#                          'videos\\\\2000_2020\\\\2001 A SPACE ODYSSEY trailer..mp4',\n",
    "#                          'videos\\\\2000_2020\\\\SHOPGIRL trailer.mp4']\n",
    "\n",
    "# # appending file address to sub_dataframes (as new column)\n",
    "# df_1920_1940['path'] = video_paths_1920_1940\n",
    "# df_1960_1980['path'] = video_paths_1960_1980\n",
    "# df_2000_2020['path'] = video_paths_2000_2020\n",
    "\n",
    "# # note:  these lists will NOT be concatenated.  This makes it easier to batch analysis by time period"
   ]
  },
  {
   "cell_type": "markdown",
   "id": "811058e3",
   "metadata": {},
   "source": [
    "### Step 1:  Sample all frames"
   ]
  },
  {
   "cell_type": "code",
   "execution_count": 7,
   "id": "96625fe4",
   "metadata": {},
   "outputs": [],
   "source": [
    "# helper function to get all frames from each trailer\n",
    "def get_representative_frames(trailer_address):                       # adapted from course manual\n",
    "    '''grab one frame per second of a trailer and output set of frames as a list'''\n",
    "    \n",
    "    # Get Video Captuer of trailer and compute a sample frame for each second\n",
    "    cap = cv2.VideoCapture(trailer_address)\n",
    "    TOTAL_FRAMES = int(cap.get(cv2.CAP_PROP_FRAME_COUNT))\n",
    "    FRAME_RATE = round(cap.get(5))   \n",
    "    \n",
    "    # get the frame rate to the nearest integer frame\n",
    "    selected_frames = np.cumsum([FRAME_RATE for i in range(int(TOTAL_FRAMES / FRAME_RATE)) ])  # take only one frame per second\n",
    "    \n",
    "    rep_frame_set = []\n",
    "    for frame in selected_frames:   \n",
    "        cap.set(cv2.CAP_PROP_POS_FRAMES,frame)\n",
    "        ret, frame = cap.read()\n",
    "        if(ret == False):\n",
    "            break;             # denotes end of movie since reprojection no longer possible\n",
    "        rep_frame_set.append(frame)\n",
    "    return rep_frame_set\n"
   ]
  },
  {
   "cell_type": "markdown",
   "id": "dec699c6",
   "metadata": {},
   "source": [
    "### Step 2:  Identify faces in representative frames"
   ]
  },
  {
   "cell_type": "code",
   "execution_count": 8,
   "id": "ff25c556",
   "metadata": {
    "scrolled": true
   },
   "outputs": [],
   "source": [
    "def find_face_frames(trailer_address):   \n",
    "    '''get face-containing frames for trailer '''\n",
    "    frame_set = get_representative_frames(trailer_address)  \n",
    "    face_set = []  \n",
    "    face_frames = []\n",
    "    for frame in frame_set:\n",
    "        BW_frame = cv2.cvtColor(frame, cv2.COLOR_BGR2GRAY)\n",
    "        faces = face_cascade.detectMultiScale(BW_frame, scaleFactor = 1.3, minNeighbors = 5)  # apply the face detect model and collect set of faces in frame\n",
    "        if len(faces) >= MIN_NUM_OF_FACES :                        #  SET TO 2 IF YOU ONLY CARE ABOUT BECHDEL TEST OUTPUT only consider frames with 2 or more faces -- operation reduction\n",
    "            face_set.append(faces)                \n",
    "            face_frames.append(frame)\n",
    "    return [face_set, face_frames]\n",
    "    # this wil be utilized in the final dataframe assembly later!\n",
    "    "
   ]
  },
  {
   "cell_type": "markdown",
   "id": "62424e4c",
   "metadata": {},
   "source": [
    "### Append face frames to dataframe"
   ]
  },
  {
   "cell_type": "code",
   "execution_count": 9,
   "id": "991abe4d",
   "metadata": {},
   "outputs": [],
   "source": [
    "def append_face_frames(df):\n",
    "    '''mutate input df: append columns to df contianing face info'''\n",
    "    df['faces_per_trailer'] = None  # initialize column\n",
    "    df['face_scenes_per_trailer'] = None    \n",
    "    \n",
    "    temp_faces_per_trailer = []\n",
    "    temp_frames_with_faces_per_trailer = []\n",
    "    # calculate number of faces per frame and only append frames with faces\n",
    "    for i in tqdm(range(len(df))):\n",
    "        trailerpath = df.iloc[i].loc['path']  # extract path as string\n",
    "        #print(trailerpath)   \n",
    "        face_frame_set = find_face_frames(trailerpath)    # get all representative frames\n",
    "        temp_faces_per_trailer.append(face_frame_set[0])   # [0] - > face(s)\n",
    "        temp_frames_with_faces_per_trailer.append(face_frame_set[1]) #[1] -> frame with face(s)\n",
    "        \n",
    "    faces_per_trailer = np.array([np.array(element) for element in temp_faces_per_trailer]) # prevent numpy flattening\n",
    "    df['faces_per_trailer'] = faces_per_trailer\n",
    "    \n",
    "    face_scenes_per_trailer = np.array([np.array(element) for element in temp_frames_with_faces_per_trailer])\n",
    "    df['face_scenes_per_trailer'] = face_scenes_per_trailer"
   ]
  },
  {
   "cell_type": "markdown",
   "id": "4b988ee2",
   "metadata": {},
   "source": [
    "### Step 3:  Identify gender of faces"
   ]
  },
  {
   "cell_type": "code",
   "execution_count": 10,
   "id": "1a105c8c",
   "metadata": {},
   "outputs": [],
   "source": [
    "INPUT_SHAPE_GENDER = [64,64]  # use gender_classifier for pretrained model\n",
    "\n",
    "def get_gender_stats(face_frame_list, face_boxes_list):   # adapted from manual\n",
    "    '''apply the face box mapping to the frame and identify gender using pretrained model'''\n",
    "    \n",
    "    # global trailer stats (TO BE RETURNED):\n",
    "    has_frame_with_2_women = False        \n",
    "    has_frame_with_ONLY_2_women = False    # Identify a frame which has exactly 2+ women AND no men\n",
    "    total_frames_with_women_in_trailer = 0  # initialize: count the number of frames with women \n",
    "    total_frames_with_men_in_trailer = 0\n",
    "    total_face_frames = len(face_frame_list)\n",
    "        \n",
    "    # frame-specific stats:\n",
    "    for i in range(len(face_frame_list)):\n",
    "        current_frame = face_frame_list[i]\n",
    "        current_frame = np.squeeze(current_frame).astype('uint8')\n",
    "        current_frame = cv2.cvtColor(current_frame, cv2.COLOR_BGR2GRAY)   # need to convert to greyscale (1 dimension instead of 3)\n",
    "        current_face_box_set = face_boxes_list[i]  # since these frames have multiple faces, a gender must be calculated for each face\n",
    "        \n",
    "        tally_female = 0         # initialize: count the number of women in the frame\n",
    "        tally_male = 0\n",
    "        \n",
    "        \n",
    "        for face in current_face_box_set:\n",
    "            x, y, width, height = face  # face box dimensions\n",
    "            x1, x2, y1, y2 = x, x + width, y, y + height          # turn into 4-coordinate rectangle\n",
    "            \n",
    "            face_img = current_frame[y1:y2, x1:x2]                # extracts face from current frame \n",
    "            face_img = cv2.resize(face_img, INPUT_SHAPE_GENDER)              # resize the image to the needed 64x64\n",
    "            face_img = face_img.astype('float32') / 255.0\n",
    "            face_img = np.expand_dims(face_img, 0)                # batch of one\n",
    "            \n",
    "            \n",
    "            assigned_gender_probability = gender_classifier.predict(face_img)[0]            \n",
    "            if assigned_gender_probability[0] > assigned_gender_probability[1]:\n",
    "                tally_female +=1\n",
    "            else:\n",
    "                tally_male +=1\n",
    "                \n",
    "        \n",
    "        if tally_female >= 2:\n",
    "            has_frame_with_2_women = True    # flag if true ==> film is candidate to pass Bechdel test\n",
    "        \n",
    "        if tally_female >= 2 and tally_male == 0:\n",
    "            has_frame_with_ONLY_2_women = True    # flag if true ==> film is a STRONG candidate to pass Bechdel test\n",
    "        \n",
    "        if tally_female >= 1:                # if the frame contains women, add to count ==> will be used later for general %\n",
    "            total_frames_with_women_in_trailer +=  1 \n",
    "        if tally_male >= 1:\n",
    "            total_frames_with_men_in_trailer +=  1 \n",
    "            \n",
    "            \n",
    "    return [has_frame_with_2_women, \n",
    "            has_frame_with_ONLY_2_women, \n",
    "            total_frames_with_women_in_trailer, \n",
    "            total_frames_with_men_in_trailer,\n",
    "            total_face_frames]"
   ]
  },
  {
   "cell_type": "markdown",
   "id": "c56bdc9c",
   "metadata": {},
   "source": [
    "### Append face frames to dataframe"
   ]
  },
  {
   "cell_type": "code",
   "execution_count": 11,
   "id": "69a4c69c",
   "metadata": {},
   "outputs": [],
   "source": [
    "def append_gender_stats(df):\n",
    "    '''mutate input df: append columns to df containing gender distribution statistics   '''\n",
    "    df['Bechdel_candidate'] = False   # default value\n",
    "    df['Bechdel_strong_candidate'] = False   # default value\n",
    "    df['female_scenes_ratio'] = 0    # default\n",
    "    df['male_scenes_ratio'] = 0\n",
    "    \n",
    "    temp_candidate_list = []\n",
    "    temp_strong_candidate_list = []\n",
    "    temp_female_ratio = []\n",
    "    temp_male_ratio = []\n",
    "    \n",
    "    for i in tqdm(range(len(df['path']))):\n",
    "        # get inputs for 'get_gender_stats' method\n",
    "        facelist = df.iloc[i].loc['faces_per_trailer']\n",
    "        scenelist = df.iloc[i].loc['face_scenes_per_trailer']  \n",
    "        gender_stats = get_gender_stats(scenelist, facelist)\n",
    "        \n",
    "        total_frames_with_faces = gender_stats[4]\n",
    "        temp_candidate_list.append(gender_stats[0])\n",
    "        temp_strong_candidate_list.append(gender_stats[1])\n",
    "        if total_frames_with_faces == 0:   # gender ratio is not applicable if no faces were found\n",
    "            temp_female_ratio.append(0)\n",
    "            temp_male_ratio.append(0)\n",
    "        else:\n",
    "            temp_female_ratio.append(gender_stats[2]/total_frames_with_faces)\n",
    "            temp_male_ratio.append(gender_stats[3]/total_frames_with_faces)\n",
    "    \n",
    "    candidate_list = np.array([np.array(element) for element in temp_candidate_list]) #Prevent np flattening\n",
    "    df['Bechdel_candidate'] = candidate_list    \n",
    "    strong_candidate_list = np.array([np.array(element) for element in temp_strong_candidate_list]) \n",
    "    df['Bechdel_strong_candidate'] = strong_candidate_list\n",
    "    female_ratio = np.array([np.array(element) for element in temp_female_ratio]) \n",
    "    df['female_scenes_ratio'] = female_ratio\n",
    "    male_ratio = np.array([np.array(element) for element in temp_male_ratio]) \n",
    "    df['male_scenes_ratio'] = male_ratio       "
   ]
  },
  {
   "cell_type": "markdown",
   "id": "0c96b8e3",
   "metadata": {},
   "source": [
    "### Step 4:  Mutating the video dataframes"
   ]
  },
  {
   "cell_type": "code",
   "execution_count": 12,
   "id": "15df25cd",
   "metadata": {},
   "outputs": [],
   "source": [
    "# Supress \"view versus copy\" dataframe warnings\n",
    "import warnings\n",
    "warnings.filterwarnings('ignore')"
   ]
  },
  {
   "cell_type": "code",
   "execution_count": 13,
   "id": "70923496",
   "metadata": {},
   "outputs": [
    {
     "data": {
      "application/vnd.jupyter.widget-view+json": {
       "model_id": "8323246bd30a4cefa6fcb12c7369d51c",
       "version_major": 2,
       "version_minor": 0
      },
      "text/plain": [
       "  0%|          | 0/10 [00:00<?, ?it/s]"
      ]
     },
     "metadata": {},
     "output_type": "display_data"
    },
    {
     "data": {
      "application/vnd.jupyter.widget-view+json": {
       "model_id": "90ae8f15b2404cc4aa56a804c540ad52",
       "version_major": 2,
       "version_minor": 0
      },
      "text/plain": [
       "  0%|          | 0/10 [00:00<?, ?it/s]"
      ]
     },
     "metadata": {},
     "output_type": "display_data"
    }
   ],
   "source": [
    "# Movies from 1920 to 1940\n",
    "append_face_frames(df_1920_1940)\n",
    "append_gender_stats(df_1920_1940)"
   ]
  },
  {
   "cell_type": "code",
   "execution_count": 14,
   "id": "5bc42450",
   "metadata": {},
   "outputs": [
    {
     "data": {
      "application/vnd.jupyter.widget-view+json": {
       "model_id": "a513395f11ab48848d1fe9e35c1deba8",
       "version_major": 2,
       "version_minor": 0
      },
      "text/plain": [
       "  0%|          | 0/10 [00:00<?, ?it/s]"
      ]
     },
     "metadata": {},
     "output_type": "display_data"
    },
    {
     "data": {
      "application/vnd.jupyter.widget-view+json": {
       "model_id": "2af47ba6510648c09cebab06d72fd861",
       "version_major": 2,
       "version_minor": 0
      },
      "text/plain": [
       "  0%|          | 0/10 [00:00<?, ?it/s]"
      ]
     },
     "metadata": {},
     "output_type": "display_data"
    }
   ],
   "source": [
    "# Movies from 1960 to 1980\n",
    "append_face_frames(df_1960_1980)\n",
    "append_gender_stats(df_1960_1980)"
   ]
  },
  {
   "cell_type": "code",
   "execution_count": 15,
   "id": "0cc03709",
   "metadata": {},
   "outputs": [
    {
     "data": {
      "application/vnd.jupyter.widget-view+json": {
       "model_id": "bb333ef35b134eeca62ff960aa4ca5bb",
       "version_major": 2,
       "version_minor": 0
      },
      "text/plain": [
       "  0%|          | 0/10 [00:00<?, ?it/s]"
      ]
     },
     "metadata": {},
     "output_type": "display_data"
    },
    {
     "data": {
      "application/vnd.jupyter.widget-view+json": {
       "model_id": "d73a177d88a643b29438e5c635bc770f",
       "version_major": 2,
       "version_minor": 0
      },
      "text/plain": [
       "  0%|          | 0/10 [00:00<?, ?it/s]"
      ]
     },
     "metadata": {},
     "output_type": "display_data"
    }
   ],
   "source": [
    "# Movies from 2000 to 2020\n",
    "append_face_frames(df_2000_2020)\n",
    "append_gender_stats(df_2000_2020)"
   ]
  },
  {
   "cell_type": "markdown",
   "id": "db1ed0c1",
   "metadata": {},
   "source": [
    "## FINAL TRAILER ANALYSIS"
   ]
  },
  {
   "cell_type": "code",
   "execution_count": 16,
   "id": "ed0ca050",
   "metadata": {},
   "outputs": [],
   "source": [
    "# drop trailers where no faces are found:  these are not relevant for calculating gender bias\n",
    "df_1920_1940_bias_check = df_1920_1940[(df_1920_1940.female_scenes_ratio != 0) & \n",
    "                                       (df_1920_1940.male_scenes_ratio != 0)]  # drop videos with no faces\n",
    "\n",
    "df_1960_1980_bias_check = df_1960_1980[(df_1960_1980.female_scenes_ratio != 0) & \n",
    "                                       (df_1960_1980.male_scenes_ratio != 0)]\n",
    "\n",
    "df_2000_2020_bias_check = df_2000_2020[(df_2000_2020.female_scenes_ratio != 0) & \n",
    "                                       (df_2000_2020.male_scenes_ratio != 0)]"
   ]
  },
  {
   "cell_type": "code",
   "execution_count": 17,
   "id": "aab6502b",
   "metadata": {},
   "outputs": [],
   "source": [
    "# create bias regressions for the three movie eras\n",
    "bias_regression_1920_1940 = linear_model.LinearRegression()\n",
    "bias_regression_1920_1940.fit(df_1920_1940_bias_check['male_scenes_ratio'].values.reshape(-1,1),    # turn series into array\n",
    "                                df_1920_1940_bias_check['female_scenes_ratio'].values.reshape(-1,1))\n",
    "\n",
    "bias_regression_1960_1980 = linear_model.LinearRegression()\n",
    "bias_regression_1960_1980.fit(df_1960_1980_bias_check['male_scenes_ratio'].values.reshape(-1,1),   \n",
    "                                df_1960_1980_bias_check['female_scenes_ratio'].values.reshape(-1,1))\n",
    "\n",
    "bias_regression_2000_2020 = linear_model.LinearRegression()\n",
    "bias_regression_2000_2020.fit(df_2000_2020_bias_check['male_scenes_ratio'].values.reshape(-1,1),   \n",
    "                                df_2000_2020_bias_check['female_scenes_ratio'].values.reshape(-1,1))\n",
    "\n",
    "\n",
    "# turn regressions into equations\n",
    "x = np.linspace(0,1,5)  # get 5 values between 0 and 1\n",
    "\n",
    "y_1920_1940 = x*bias_regression_1920_1940.coef_ + bias_regression_1920_1940.intercept_\n",
    "y_1960_1980 = x*bias_regression_1960_1980.coef_ + bias_regression_1960_1980.intercept_\n",
    "y_2000_2020 = x*bias_regression_2000_2020.coef_ + bias_regression_2000_2020.intercept_ \n"
   ]
  },
  {
   "cell_type": "code",
   "execution_count": 28,
   "id": "62845bb9",
   "metadata": {},
   "outputs": [
    {
     "data": {
      "image/png": "[encoded data removed]",
      "text/plain": [
       "<Figure size 720x720 with 1 Axes>"
      ]
     },
     "metadata": {
      "needs_background": "light"
     },
     "output_type": "display_data"
    }
   ],
   "source": [
    "# plot the gender bias per time period\n",
    "fig, ax = plt.subplots()\n",
    "plt.rcParams['figure.figsize'] = [10, 5]\n",
    "\n",
    "# plot neutral bias line\n",
    "ax.plot(x, x, color='black')\n",
    "\n",
    "# scatterplots of ratio per trailer\n",
    "ax.scatter(df_1920_1940_bias_check['male_scenes_ratio'], \n",
    "           df_1920_1940_bias_check['female_scenes_ratio'], \n",
    "           color='green', label='Trailers 1920-1940')\n",
    "ax.scatter(df_1960_1980_bias_check['male_scenes_ratio'], \n",
    "           df_1960_1980_bias_check['female_scenes_ratio'], \n",
    "           color='orange', label='Trailers 1960_1980')\n",
    "ax.scatter(df_2000_2020_bias_check['male_scenes_ratio'], \n",
    "           df_2000_2020_bias_check['female_scenes_ratio'], \n",
    "           color='purple', label='Trailers 2000-2020')\n",
    "\n",
    "# plot trendlines  y=mx+b ==> (x * .coef_) + intercept_\n",
    "ax.plot(x, np.squeeze(y_1920_1940, axis=0), color='green')   #remove blank dimension from y\n",
    "ax.plot(x, np.squeeze(y_1960_1980, axis=0), color='orange')\n",
    "ax.plot(x, np.squeeze(y_2000_2020, axis=0), color='purple')\n",
    "\n",
    "ax.legend()\n",
    "plt.xlabel(\"Ratio of Scenes with Men\")\n",
    "plt.ylabel(\"Ratio of Scenes with Women\")\n",
    "plt.show()"
   ]
  },
  {
   "cell_type": "code",
   "execution_count": 29,
   "id": "cee471e9",
   "metadata": {},
   "outputs": [
    {
     "data": {
      "text/plain": [
       "Text(0, 0.5, 'Number of Films')"
      ]
     },
     "execution_count": 29,
     "metadata": {},
     "output_type": "execute_result"
    },
    {
     "data": {
      "image/png": "[encoded data removed]",
      "text/plain": [
       "<Figure size 720x360 with 1 Axes>"
      ]
     },
     "metadata": {
      "needs_background": "light"
     },
     "output_type": "display_data"
    }
   ],
   "source": [
    "# create a gender bias distribution graph\n",
    "fig, bx = plt.subplots()  \n",
    "plt.rcParams['figure.figsize'] = [10, 10]\n",
    "\n",
    "# set up histogram bins\n",
    "bin_list = np.linspace(-1,1,11)    \n",
    "bin_list = bin_list.tolist()       \n",
    "\n",
    "# plot histograms per time period\n",
    "bx.hist(df_1920_1940_bias_check['male_scenes_ratio']-df_1920_1940_bias_check['female_scenes_ratio'], \n",
    "        bins=bin_list, color='green', alpha=0.75)\n",
    "bx.hist(df_1960_1980_bias_check['male_scenes_ratio']-df_1960_1980_bias_check['female_scenes_ratio'], \n",
    "        bins=bin_list, color='orange', alpha=0.75)\n",
    "bx.hist(df_2000_2020_bias_check['male_scenes_ratio']-df_2000_2020_bias_check['female_scenes_ratio'], \n",
    "        bins=bin_list, color='purple', alpha=0.75)\n",
    "\n",
    "# plot \"neutral bias\" line\n",
    "bx.axvline(0, color='black')  \n",
    "plt.xlabel(\"Gender Bias: completely female to completely male\")\n",
    "plt.ylabel(\"Number of Films\")"
   ]
  },
  {
   "cell_type": "markdown",
   "id": "871e0e1a",
   "metadata": {},
   "source": [
    "#### Gender Bias:\n",
    "\n",
    "Plotting the ratio of face-containing frames with women versus those with men, it's possible to see the overall gender bias in screen time.\n",
    "\n",
    "In a scatterplot, we can compare indiviual trailers.  The black line denotes an neutral bias; films that fall closer to this line equally feature frames with men and women.  However, we can see by the negative regression lines that films tend to skew very male or very female.\n",
    "\n",
    "Using a histogram, we can more clearly compare the bias distribution, with the two extremes representing trailers only depicting women (-1) and ones that only depict men (1).  The more films near 0, the less biased the time period is (with regards to representation in movie trailers).\n",
    "\n",
    "As hypothesized, films from 2000-2020 have the least overall bias.  Movies from 1960-1980 skew more male, while movies from 1920-1940 skew slightly more female.\n",
    "\n",
    "We would expect that trailers with a neutral or higher female bias have a higher chance of passing the Bechdel test, but that may not be the case:"
   ]
  },
  {
   "cell_type": "code",
   "execution_count": 26,
   "id": "1ff68490",
   "metadata": {},
   "outputs": [
    {
     "data": {
      "image/png": "[encoded data removed]",
      "text/plain": [
       "<Figure size 720x360 with 1 Axes>"
      ]
     },
     "metadata": {
      "needs_background": "light"
     },
     "output_type": "display_data"
    }
   ],
   "source": [
    "# select only films that are potential candidates to pass the Bechdel test:\n",
    "candidates_1920_1940 = df_1920_1940_bias_check [(df_1920_1940_bias_check.Bechdel_candidate == True)]\n",
    "candidates_1960_1980 = df_1960_1980_bias_check [(df_1960_1980_bias_check.Bechdel_candidate == True)]\n",
    "candidates_2000_2020 = df_2000_2020_bias_check [(df_2000_2020_bias_check.Bechdel_candidate == True)]\n",
    "\n",
    "\n",
    "\n",
    "# plot the Bechdel Test candidates per time period\n",
    "fig, ax = plt.subplots()\n",
    "plt.rcParams['figure.figsize'] = [10, 5]\n",
    "\n",
    "# plot neutral bias line\n",
    "ax.plot(x, x, color='black')\n",
    "\n",
    "# dim scatterplots of ratio per trailer\n",
    "ax.scatter(df_1920_1940_bias_check['male_scenes_ratio'], \n",
    "           df_1920_1940_bias_check['female_scenes_ratio'], \n",
    "           color='#C0FED0', label='Trailers 1920-1940')\n",
    "ax.scatter(df_1960_1980_bias_check['male_scenes_ratio'], \n",
    "           df_1960_1980_bias_check['female_scenes_ratio'], \n",
    "           color='#FEEAC0', label='Trailers 1960_1980')\n",
    "ax.scatter(df_2000_2020_bias_check['male_scenes_ratio'], \n",
    "           df_2000_2020_bias_check['female_scenes_ratio'], \n",
    "           color='#F7C0FE', label='Trailers 2000-2020')\n",
    "\n",
    "# overlay scatterplot of potential candidates\n",
    "ax.scatter(candidates_1920_1940['male_scenes_ratio'], \n",
    "           candidates_1920_1940['female_scenes_ratio'], \n",
    "           color='green', label='Candidate Trailers 1920-1940')\n",
    "ax.scatter(candidates_1960_1980['male_scenes_ratio'], \n",
    "           candidates_1960_1980['female_scenes_ratio'], \n",
    "           color='orange', label='Candidate Trailers 1960_1980')\n",
    "ax.scatter(candidates_2000_2020['male_scenes_ratio'], \n",
    "           candidates_2000_2020['female_scenes_ratio'], \n",
    "           color='purple', label='Candidate Trailers 2000-2020')\n",
    "\n",
    "\n",
    "ax.legend()\n",
    "plt.xlabel(\"Ratio of Scenes with Men\")\n",
    "plt.ylabel(\"Ratio of Scenes with Women\")\n",
    "plt.show()"
   ]
  },
  {
   "cell_type": "code",
   "execution_count": 27,
   "id": "f8ea371c",
   "metadata": {},
   "outputs": [
    {
     "data": {
      "text/plain": [
       "Text(0, 0.5, 'Number of Films')"
      ]
     },
     "execution_count": 27,
     "metadata": {},
     "output_type": "execute_result"
    },
    {
     "data": {
      "image/png": "[encoded data removed]",
      "text/plain": [
       "<Figure size 720x360 with 1 Axes>"
      ]
     },
     "metadata": {
      "needs_background": "light"
     },
     "output_type": "display_data"
    }
   ],
   "source": [
    "# create a bias distribution graph for Bechdel candidates\n",
    "fig, bx = plt.subplots()  \n",
    "plt.rcParams['figure.figsize'] = [10, 10]\n",
    "\n",
    "# set up histogram bins\n",
    "bin_list = np.linspace(-1,1,11)    \n",
    "bin_list = bin_list.tolist()       \n",
    "\n",
    "# (dim) plot of histograms per time period\n",
    "bx.hist(df_1920_1940_bias_check['male_scenes_ratio']-df_1920_1940_bias_check['female_scenes_ratio'], \n",
    "        bins=bin_list, color='#C0FED0', alpha=0.75)\n",
    "bx.hist(df_1960_1980_bias_check['male_scenes_ratio']-df_1960_1980_bias_check['female_scenes_ratio'], \n",
    "        bins=bin_list, color='#FEEAC0', alpha=0.75)\n",
    "bx.hist(df_2000_2020_bias_check['male_scenes_ratio']-df_2000_2020_bias_check['female_scenes_ratio'], \n",
    "        bins=bin_list, color='#F7C0FE', alpha=0.75)\n",
    "\n",
    "# overlay plot of histograms of candidates per time period\n",
    "bx.hist(candidates_1920_1940['male_scenes_ratio']-candidates_1920_1940['female_scenes_ratio'], \n",
    "        bins=bin_list, color='green', alpha=0.75)\n",
    "bx.hist(candidates_1960_1980['male_scenes_ratio']-candidates_1960_1980['female_scenes_ratio'], \n",
    "        bins=bin_list, color='orange', alpha=0.75)\n",
    "bx.hist(candidates_2000_2020['male_scenes_ratio']-candidates_2000_2020['female_scenes_ratio'], \n",
    "        bins=bin_list, color='purple', alpha=0.75)\n",
    "\n",
    "# plot \"neutral bias\" line\n",
    "bx.axvline(0, color='black')  \n",
    "\n",
    "plt.xlabel(\"Gender Bias: completely female to completely male\")\n",
    "plt.ylabel(\"Number of Films\")"
   ]
  },
  {
   "cell_type": "code",
   "execution_count": 22,
   "id": "be813f1d",
   "metadata": {},
   "outputs": [
    {
     "data": {
      "text/html": [
       "<div>\n",
       "<style scoped>\n",
       "    .dataframe tbody tr th:only-of-type {\n",
       "        vertical-align: middle;\n",
       "    }\n",
       "\n",
       "    .dataframe tbody tr th {\n",
       "        vertical-align: top;\n",
       "    }\n",
       "\n",
       "    .dataframe thead th {\n",
       "        text-align: right;\n",
       "    }\n",
       "</style>\n",
       "<table border=\"1\" class=\"dataframe\">\n",
       "  <thead>\n",
       "    <tr style=\"text-align: right;\">\n",
       "      <th></th>\n",
       "      <th>time_period</th>\n",
       "      <th>number_videos</th>\n",
       "      <th>number_Bechdel_candidates</th>\n",
       "      <th>number_strong_Bechdel_candidates</th>\n",
       "      <th>percent_candidates</th>\n",
       "      <th>percent_strong_candidates</th>\n",
       "    </tr>\n",
       "  </thead>\n",
       "  <tbody>\n",
       "    <tr>\n",
       "      <th>0</th>\n",
       "      <td>1920-1940</td>\n",
       "      <td>10</td>\n",
       "      <td>6</td>\n",
       "      <td>6</td>\n",
       "      <td>0.600000</td>\n",
       "      <td>0.600000</td>\n",
       "    </tr>\n",
       "    <tr>\n",
       "      <th>1</th>\n",
       "      <td>1960-1980</td>\n",
       "      <td>10</td>\n",
       "      <td>4</td>\n",
       "      <td>3</td>\n",
       "      <td>0.400000</td>\n",
       "      <td>0.300000</td>\n",
       "    </tr>\n",
       "    <tr>\n",
       "      <th>2</th>\n",
       "      <td>2000-2020</td>\n",
       "      <td>9</td>\n",
       "      <td>2</td>\n",
       "      <td>2</td>\n",
       "      <td>0.222222</td>\n",
       "      <td>0.222222</td>\n",
       "    </tr>\n",
       "  </tbody>\n",
       "</table>\n",
       "</div>"
      ],
      "text/plain": [
       "  time_period  number_videos  number_Bechdel_candidates  \\\n",
       "0   1920-1940             10                          6   \n",
       "1   1960-1980             10                          4   \n",
       "2   2000-2020              9                          2   \n",
       "\n",
       "   number_strong_Bechdel_candidates  percent_candidates  \\\n",
       "0                                 6            0.600000   \n",
       "1                                 3            0.400000   \n",
       "2                                 2            0.222222   \n",
       "\n",
       "   percent_strong_candidates  \n",
       "0                   0.600000  \n",
       "1                   0.300000  \n",
       "2                   0.222222  "
      ]
     },
     "execution_count": 22,
     "metadata": {},
     "output_type": "execute_result"
    }
   ],
   "source": [
    "# get stats per time period\n",
    "def get_era_stats(df):\n",
    "    '''for a given dataframe, extract statistics for the set'''\n",
    "    number_videos = df.shape[0]\n",
    "    number_Bechdel_candidates = df[df.Bechdel_candidate == True].shape[0]\n",
    "    number_strong_Bechdel_candidates = df[df.Bechdel_strong_candidate == True].shape[0]\n",
    "    percent_candidates = number_Bechdel_candidates/number_videos\n",
    "    percent_strong_candidates = number_strong_Bechdel_candidates/number_videos\n",
    "    return [number_videos,\n",
    "           number_Bechdel_candidates,\n",
    "           number_strong_Bechdel_candidates,\n",
    "           percent_candidates,\n",
    "           percent_strong_candidates]\n",
    "\n",
    "# list of time period dataframes to assess\n",
    "df_to_survey = [df_1920_1940_bias_check, df_1960_1980_bias_check, df_2000_2020_bias_check]\n",
    "list_of_eras = ['1920-1940', '1960-1980', '2000-2020']\n",
    "\n",
    "# create table counting number and percent of candidates per time period\n",
    "new_rows = [[list_of_eras[i]] + get_era_stats(df_to_survey[i]) for i in range(len(df_to_survey))]\n",
    "\n",
    "    \n",
    "final_df = pd.DataFrame(new_rows, columns=['time_period',\n",
    "                                           'number_videos',\n",
    "                                           'number_Bechdel_candidates',\n",
    "                                           'number_strong_Bechdel_candidates',\n",
    "                                           'percent_candidates',\n",
    "                                           'percent_strong_candidates'])\n",
    "final_df"
   ]
  },
  {
   "cell_type": "markdown",
   "id": "cb7974a4",
   "metadata": {},
   "source": [
    "#### Conclusion\n",
    "\n",
    "From the overlayed graphs and the final statistics output, it's clear that the original hypothesis of \"a higher percentage of film trailers from 2000-2020 will pass the Bechdel test\" is completely wrong.  Though film trailers from the era have a fair balance of gender representation (as shown by near-equal ratio of scenes with men to ratio of scenes with women), this does not mean that the films are any better at featuring women in non-supporting roles interacting with each other (as shown by the lack of Bechdel candidates). \n",
    "\n",
    "Instead, the hypothesis put forward in the first part of the analysis (\"We would expect that trailers with a neutral or higher female bias have a higher chance of passing the Bechdel test\") seems plausible.  Film trailers from 1920 to 1940 featured more frames with women in general, meaning that there was a higher chance for the \"number_Bechdel_candidates\" (multiple women in a frame) and \"number_strong_Bechdel_candidates\" (multiple women and no men in a frame) to flag as True.  An indeed, this film period had the highest percent of (strong) Bechdel candidates.\n",
    "\n",
    "It's worth noting once again, though, that this was a random sample of movie trailers from various time periods.  Choosing a larger set of trailers could change the results, but at the cost of a lot more processing time.\n",
    "\n",
    "#### Further Research\n",
    "\n",
    "The method framework found in this document has explicitly been set up in such a way that it can be expanded to full videos.  The current iteration takes one representative frame per second, but for full films with longer scenes, scene detection can be used to filter \"face frames\" so that the one frame per scene with the most faces is analyzed.  Then, the gender bias and Bechdel quota of the trailer can be compared to that of the full movie, and be used to assess whether the trailer is a fair representation of the characters/interactions shown in the full film."
   ]
  },
  {
   "cell_type": "code",
   "execution_count": null,
   "id": "e1a40749",
   "metadata": {},
   "outputs": [],
   "source": []
  }
 ],
 "metadata": {
  "kernelspec": {
   "display_name": "Python 3 (ipykernel)",
   "language": "python",
   "name": "python3"
  },
  "language_info": {
   "codemirror_mode": {
    "name": "ipython",
    "version": 3
   },
   "file_extension": ".py",
   "mimetype": "text/x-python",
   "name": "python",
   "nbconvert_exporter": "python",
   "pygments_lexer": "ipython3",
   "version": "3.9.7"
  }
 },
 "nbformat": 4,
 "nbformat_minor": 5
}
